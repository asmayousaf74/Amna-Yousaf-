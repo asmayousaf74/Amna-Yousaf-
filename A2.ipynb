{
 "cells": [
  {
   "cell_type": "code",
   "execution_count": 1,
   "id": "9da37961-7049-4183-a084-6afff4bf37c1",
   "metadata": {},
   "outputs": [
    {
     "name": "stdin",
     "output_type": "stream",
     "text": [
      "enter your age:  43\n"
     ]
    },
    {
     "name": "stdout",
     "output_type": "stream",
     "text": [
      "adult\n"
     ]
    }
   ],
   "source": [
    "## Answer 01\n",
    "age = int(input('enter your age: '))\n",
    "if age>= 0 and age<= 12:\n",
    "    print('child')\n",
    "elif age>=13 and age<=19:\n",
    "    print('teenager')\n",
    "elif age>=20 and age<=64:\n",
    "    print('adult')\n",
    "else:\n",
    "    print('senior')"
   ]
  },
  {
   "cell_type": "code",
   "execution_count": 2,
   "id": "ecd16232-3204-4758-a585-490355db7e72",
   "metadata": {},
   "outputs": [
    {
     "name": "stdin",
     "output_type": "stream",
     "text": [
      "enter member ship status(premium/regular):  regular\n",
      "enter the purhase amount:  1850\n"
     ]
    },
    {
     "name": "stdout",
     "output_type": "stream",
     "text": [
      "not eligible for discount\n"
     ]
    }
   ],
   "source": [
    "## Answer 2\n",
    "membership_status = input('enter member ship status(premium/regular): ')\n",
    "purchase_amount = int(input('enter the purhase amount: '))\n",
    "if (membership_status == 'premium' and purchase_amount>= 1000) or (membership_status == 'regular' and purchase_amount>=2000):\n",
    "    print('eligible for discount')\n",
    "else:\n",
    "    print('not eligible for discount')"
   ]
  },
  {
   "cell_type": "code",
   "execution_count": 3,
   "id": "d03726fe-3bc7-448e-97b3-ddbf6ca5b51f",
   "metadata": {},
   "outputs": [
    {
     "name": "stdin",
     "output_type": "stream",
     "text": [
      "enter age :  23\n",
      "citizen/Non citizen:  citizen\n"
     ]
    },
    {
     "name": "stdout",
     "output_type": "stream",
     "text": [
      "eligible to vote\n"
     ]
    }
   ],
   "source": [
    "## Answer 3\n",
    "age =  int(input('enter age : '))\n",
    "citizenship_status = input('citizen/Non citizen: ')\n",
    "if (age >= 18  and citizenship_status == 'citizen') or (age >= 16 and citizenship_status == 'citizen'):\n",
    "    print('eligible to vote')\n",
    "else:\n",
    "    print('not eligible to vote')"
   ]
  },
  {
   "cell_type": "code",
   "execution_count": 4,
   "id": "f2daf1f9-5569-4197-bc73-e633a6637ea7",
   "metadata": {},
   "outputs": [
    {
     "name": "stdin",
     "output_type": "stream",
     "text": [
      "enter rating(excellent/good/satisfactory):  satisfactory\n",
      "enter years:  13\n"
     ]
    },
    {
     "name": "stdout",
     "output_type": "stream",
     "text": [
      "not eligible for bonus\n"
     ]
    }
   ],
   "source": [
    "## Answer 4\n",
    "employees_performance = input('enter rating(excellent/good/satisfactory): ')\n",
    "years_of_service =(int (input('enter years: ')))\n",
    "if (employees_performance == 'excellent'  and years_of_service  >= 5) or \\\n",
    "(employees_performance == 'good' and years_of_service  >= 10) or \\\n",
    "(employees_performance == 'satisfactory' and years_of_service  >=  15):\n",
    "    print ('eligible for bonus')                 \n",
    "else:\n",
    "     print('not eligible for bonus')"
   ]
  },
  {
   "cell_type": "code",
   "execution_count": 5,
   "id": "f5a30aa4-f29e-4d1f-8133-05e181c18a66",
   "metadata": {},
   "outputs": [
    {
     "name": "stdout",
     "output_type": "stream",
     "text": [
      "Modified text: I'm_learning_Python_programming\n",
      "Number of underscores: 3\n",
      "Position of first underscore: 3\n"
     ]
    }
   ],
   "source": [
    "## Answer 5\n",
    "text = \"I'm learning Python programming\"\n",
    "\n",
    "# Replace spaces with underscores\n",
    "modified_text = text.replace(\" \", \"_\")\n",
    "\n",
    "# Count how many underscores are in the modified text\n",
    "underscore_count = modified_text.count(\"_\")\n",
    "\n",
    "# Find the position of the first underscore\n",
    "first_underscore_position = modified_text.find(\"_\")\n",
    "\n",
    "# Print the results\n",
    "print(\"Modified text:\", modified_text)\n",
    "print(\"Number of underscores:\", underscore_count)\n",
    "print(\"Position of first underscore:\", first_underscore_position)"
   ]
  },
  {
   "cell_type": "code",
   "execution_count": 6,
   "id": "229ffac3-aad7-4625-9c53-852c643dd88d",
   "metadata": {},
   "outputs": [
    {
     "name": "stdin",
     "output_type": "stream",
     "text": [
      "Enter a string:  4\n"
     ]
    },
    {
     "name": "stdout",
     "output_type": "stream",
     "text": [
      "All characters except the last 3: \n",
      "Every second character: 4\n",
      "String in reverse: 4\n"
     ]
    }
   ],
   "source": [
    "## Answer 6\n",
    "# Taking input string\n",
    "input_string = input(\"Enter a string: \")\n",
    "\n",
    "# 1. Print all characters of the string except the last 3\n",
    "print(\"All characters except the last 3:\", input_string[:-3])\n",
    "\n",
    "# 2. Print every second character of the string\n",
    "print(\"Every second character:\", input_string[::2])\n",
    "\n",
    "# 3. Print the string in reverse\n",
    "print(\"String in reverse:\", input_string[::-1])\n",
    "                   "
   ]
  },
  {
   "cell_type": "code",
   "execution_count": 7,
   "id": "4a841359-b353-4e47-a834-f7b2a1cdbbd6",
   "metadata": {},
   "outputs": [
    {
     "name": "stdout",
     "output_type": "stream",
     "text": [
      "Original text: Hello World, We are learning Python\n",
      "Reversed sentence: Python learning are We World, Hello\n"
     ]
    }
   ],
   "source": [
    "## Answer 7\n",
    "# Input sentence\n",
    "text = \"Hello World, We are learning Python\"\n",
    "\n",
    "# Split the sentence into words\n",
    "words = text.split()\n",
    "\n",
    "# Reverse the order of the words\n",
    "reversed_words = words[::-1]\n",
    "\n",
    "# Join the reversed words back into a sentence\n",
    "reversed_sentence = ' '.join(reversed_words)\n",
    "\n",
    "# Output the reversed sentence\n",
    "print(\"Original text:\", text)\n",
    "print(\"Reversed sentence:\", reversed_sentence)\n"
   ]
  },
  {
   "cell_type": "code",
   "execution_count": 8,
   "id": "59190d34-97d4-480a-baf0-9b4e9ff4c6bc",
   "metadata": {},
   "outputs": [
    {
     "name": "stdout",
     "output_type": "stream",
     "text": [
      "Extracted number: 12345\n"
     ]
    }
   ],
   "source": [
    "## Answer 8\n",
    "# Input product code\n",
    "product_code = \"SKU-12345-XYZ\"\n",
    "\n",
    "# Remove \"SKU-\" and \"-XYZ\" to extract the number\n",
    "extracted_number = product_code.replace(\"SKU-\", \"\").replace(\"-XYZ\", \"\")\n",
    "\n",
    "# Output the extracted number\n",
    "print(\"Extracted number:\", extracted_number)\n"
   ]
  },
  {
   "cell_type": "code",
   "execution_count": 10,
   "id": "aca8061b-105f-4357-af33-66d55a7d3444",
   "metadata": {},
   "outputs": [
    {
     "name": "stdin",
     "output_type": "stream",
     "text": [
      "Enter your password:  AMNA@2456\n"
     ]
    },
    {
     "name": "stdout",
     "output_type": "stream",
     "text": [
      "Password analysis:\n",
      "Contains uppercase characters: True\n",
      "Contains lowercase characters: False\n",
      "Contains spaces: False\n",
      "Contains special characters: True\n"
     ]
    }
   ],
   "source": [
    "## Answer 9\n",
    "import string\n",
    "\n",
    "# Input password\n",
    "password = input(\"Enter your password: \")\n",
    "\n",
    "# Check for uppercase characters\n",
    "has_uppercase = any(char.isupper() for char in password)\n",
    "\n",
    "# Check for lowercase characters\n",
    "has_lowercase = any(char.islower() for char in password)\n",
    "\n",
    "# Check for spaces\n",
    "has_spaces = any(char.isspace() for char in password)\n",
    "\n",
    "# Check for special characters\n",
    "special_characters = string.punctuation  # Includes common special characters\n",
    "has_special = any(char in special_characters for char in password)\n",
    "\n",
    "# Display the results\n",
    "print(\"Password analysis:\")\n",
    "print(\"Contains uppercase characters:\", has_uppercase)\n",
    "print(\"Contains lowercase characters:\", has_lowercase)\n",
    "print(\"Contains spaces:\", has_spaces)\n",
    "print(\"Contains special characters:\", has_special)\n"
   ]
  },
  {
   "cell_type": "code",
   "execution_count": 11,
   "id": "83db8def-a086-4801-9e1a-2f349600bda0",
   "metadata": {},
   "outputs": [
    {
     "name": "stdout",
     "output_type": "stream",
     "text": [
      "Input sentence: I love programming in Python\n",
      "Longest word: programming\n"
     ]
    }
   ],
   "source": [
    "## Answer 10\n",
    "# Input sentence\n",
    "sentence = \"I love programming in Python\"\n",
    "\n",
    "# Split the sentence into words\n",
    "words = sentence.split()\n",
    "\n",
    "# Find the longest word\n",
    "longest_word = max(words, key=len)\n",
    "\n",
    "# Output the longest word\n",
    "print(\"Input sentence:\", sentence)\n",
    "print(\"Longest word:\", longest_word)"
   ]
  },
  {
   "cell_type": "code",
   "execution_count": null,
   "id": "8df748ef-2040-4a6a-ab1f-4f0fdc0561a9",
   "metadata": {},
   "outputs": [],
   "source": []
  },
  {
   "cell_type": "code",
   "execution_count": null,
   "id": "a4247dc1-96ae-4d90-9d77-ed071c57dd26",
   "metadata": {},
   "outputs": [],
   "source": []
  },
  {
   "cell_type": "code",
   "execution_count": null,
   "id": "a44b92f0-b6a1-4a95-a716-85c63b4679a6",
   "metadata": {},
   "outputs": [],
   "source": []
  },
  {
   "cell_type": "code",
   "execution_count": null,
   "id": "5fe76ed0-d1c8-46e5-b33a-e70a480511b4",
   "metadata": {},
   "outputs": [],
   "source": []
  },
  {
   "cell_type": "code",
   "execution_count": null,
   "id": "af8ec59a-bffa-42fa-abad-b803eb47f512",
   "metadata": {},
   "outputs": [],
   "source": []
  }
 ],
 "metadata": {
  "kernelspec": {
   "display_name": "Python 3 (ipykernel)",
   "language": "python",
   "name": "python3"
  },
  "language_info": {
   "codemirror_mode": {
    "name": "ipython",
    "version": 3
   },
   "file_extension": ".py",
   "mimetype": "text/x-python",
   "name": "python",
   "nbconvert_exporter": "python",
   "pygments_lexer": "ipython3",
   "version": "3.12.7"
  }
 },
 "nbformat": 4,
 "nbformat_minor": 5
}
