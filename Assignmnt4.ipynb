{
 "cells": [
  {
   "cell_type": "code",
   "execution_count": null,
   "id": "d723c916-6440-4327-810e-6135d387ec54",
   "metadata": {},
   "outputs": [],
   "source": [
    "## Q1: Tuple Operations"
   ]
  },
  {
   "cell_type": "code",
   "execution_count": 2,
   "id": "2cc8fb4f-244c-4c03-be2c-0ad659f54db1",
   "metadata": {},
   "outputs": [
    {
     "name": "stdout",
     "output_type": "stream",
     "text": [
      "Elements of my_tuple:\n",
      "(1, 2, 3)\n",
      "[4, 5, 6]\n",
      "('apple', 'banana', 'cherry')\n",
      "[7, 8, 9]\n",
      "\n",
      "New tuple by concatenating first and last elements: (1, 2, 3, 7, 8, 9)\n"
     ]
    }
   ],
   "source": [
    "# Define the tuple\n",
    "my_tuple = ((1, 2, 3), [4, 5, 6], ('apple', 'banana', 'cherry'), [7, 8, 9])\n",
    "\n",
    "# Print all elements on a new line\n",
    "print(\"Elements of my_tuple:\")\n",
    "for element in my_tuple:\n",
    "    print(element)\n",
    "\n",
    "# Create a new tuple by concatenating the first and last elements\n",
    "new_tuple = my_tuple[0] + tuple(my_tuple[-1])\n",
    "print(\"\\nNew tuple by concatenating first and last elements:\", new_tuple)"
   ]
  },
  {
   "cell_type": "code",
   "execution_count": null,
   "id": "4f7dfcd0-0087-409b-b87f-3608b9428426",
   "metadata": {},
   "outputs": [],
   "source": [
    "## Q2: Inventory Management"
   ]
  },
  {
   "cell_type": "code",
   "execution_count": 3,
   "id": "71a90b45-9d31-47f3-b1a2-91b23283a824",
   "metadata": {},
   "outputs": [
    {
     "name": "stdout",
     "output_type": "stream",
     "text": [
      "\n",
      "Updated inventory after adding a book: {'The Great Gatsby': {'price': 10.99, 'quantity': 5}, 'Rich dad poor dad': {'price': 8.99, 'quantity': 8}, 'Harry Potter': {'price': 12.5, 'quantity': 2}, 'The Alchemist': {'price': 9.99, 'quantity': 10}}\n",
      "\n",
      "All book titles: dict_keys(['The Great Gatsby', 'Rich dad poor dad', 'Harry Potter', 'The Alchemist'])\n",
      "\n",
      "Inventory after removing out-of-stock books: {'The Great Gatsby': {'price': 10.99, 'quantity': 5}, 'Rich dad poor dad': {'price': 8.99, 'quantity': 8}, 'Harry Potter': {'price': 12.5, 'quantity': 2}, 'The Alchemist': {'price': 9.99, 'quantity': 10}}\n"
     ]
    }
   ],
   "source": [
    "# Define the inventory\n",
    "inventory = {\n",
    "    \"The Great Gatsby\": {\"price\": 10.99, \"quantity\": 5},\n",
    "    \"Rich dad poor dad\": {\"price\": 8.99, \"quantity\": 8},\n",
    "    \"Harry Potter\": {\"price\": 12.50, \"quantity\": 2},\n",
    "}\n",
    "\n",
    "# Add a new book\n",
    "inventory[\"The Alchemist\"] = {\"price\": 9.99, \"quantity\": 10}\n",
    "print(\"\\nUpdated inventory after adding a book:\", inventory)\n",
    "\n",
    "# Get all book titles\n",
    "print(\"\\nAll book titles:\", inventory.keys())\n",
    "\n",
    "# Remove a book if it's out of stock\n",
    "for book, details in list(inventory.items()):\n",
    "    if details[\"quantity\"] == 0:\n",
    "        del inventory[book]\n",
    "print(\"\\nInventory after removing out-of-stock books:\", inventory)\n"
   ]
  },
  {
   "cell_type": "code",
   "execution_count": 4,
   "id": "632a40bf-f07f-47df-876c-48c6eadad8fd",
   "metadata": {},
   "outputs": [],
   "source": [
    "## Q3: Product Management"
   ]
  },
  {
   "cell_type": "code",
   "execution_count": 5,
   "id": "3fe460a0-e466-4af4-a5d6-f6858ce736f7",
   "metadata": {},
   "outputs": [
    {
     "name": "stdout",
     "output_type": "stream",
     "text": [
      "\n",
      "Updated stock for 'Shirt': 250\n",
      "\n",
      "Products after adding 'Smartphone': {101: {'name': 'Laptop', 'category': 'Electronics', 'price': 1200, 'stock': 50}, 102: {'name': 'Shirt', 'category': 'Apparel', 'price': 25, 'stock': 250}, 103: {'name': 'Coffee Maker', 'category': 'Home Appliances', 'price': 80, 'stock': 30}, 104: {'name': 'Smartphone', 'category': 'Electronics', 'price': 800, 'stock': 100}}\n"
     ]
    }
   ],
   "source": [
    "# Define the products dictionary\n",
    "products = {\n",
    "    101: {\"name\": \"Laptop\", \"category\": \"Electronics\", \"price\": 1200, \"stock\": 50},\n",
    "    102: {\"name\": \"Shirt\", \"category\": \"Apparel\", \"price\": 25, \"stock\": 200},\n",
    "    103: {\"name\": \"Coffee Maker\", \"category\": \"Home Appliances\", \"price\": 80, \"stock\": 30},\n",
    "}\n",
    "\n",
    "# Increase stock of \"Shirt\"\n",
    "products[102][\"stock\"] += 50\n",
    "print(\"\\nUpdated stock for 'Shirt':\", products[102][\"stock\"])\n",
    "\n",
    "# Add a new product\n",
    "products[104] = {\"name\": \"Smartphone\", \"category\": \"Electronics\", \"price\": 800, \"stock\": 100}\n",
    "print(\"\\nProducts after adding 'Smartphone':\", products)"
   ]
  },
  {
   "cell_type": "code",
   "execution_count": 6,
   "id": "e4adffdc-8175-4c74-b37f-c03445da00c0",
   "metadata": {},
   "outputs": [],
   "source": [
    "## Q4: Remove Duplicates from List"
   ]
  },
  {
   "cell_type": "code",
   "execution_count": 7,
   "id": "97f227bb-53f7-497c-b494-6c098abdcf5c",
   "metadata": {},
   "outputs": [
    {
     "name": "stdout",
     "output_type": "stream",
     "text": [
      "\n",
      "Shopping list after removing duplicates: {'apple', 'grape', 'banana', 'orange'}\n"
     ]
    }
   ],
   "source": [
    "# Define the shopping list\n",
    "shopping_list = [\"apple\", \"banana\", \"apple\", \"orange\", \"banana\", \"grape\"]\n",
    "\n",
    "# Remove duplicates\n",
    "shopping_set = set(shopping_list)\n",
    "print(\"\\nShopping list after removing duplicates:\", shopping_set)\n"
   ]
  },
  {
   "cell_type": "code",
   "execution_count": 8,
   "id": "05361780-4240-4b29-a5cc-fe1781f862e3",
   "metadata": {},
   "outputs": [],
   "source": [
    "## Q5: Set Operations on Course Enrollment"
   ]
  },
  {
   "cell_type": "code",
   "execution_count": 9,
   "id": "a1978423-f726-49e0-afc3-275d088db824",
   "metadata": {},
   "outputs": [
    {
     "name": "stdout",
     "output_type": "stream",
     "text": [
      "\n",
      "Students in Course A but not in Course B: {'John', 'Bob'}\n",
      "Students in only one of the two courses: {'Bob', 'Charlie', 'John', 'Eve'}\n"
     ]
    }
   ],
   "source": [
    "# Define course sets\n",
    "course_a = {\"John\", \"Alice\", \"Bob\", \"David\"}\n",
    "course_b = {\"Alice\", \"Eve\", \"Charlie\", \"David\"}\n",
    "\n",
    "# Difference: Students in Course A but not in Course B\n",
    "diff = course_a - course_b\n",
    "print(\"\\nStudents in Course A but not in Course B:\", diff)\n",
    "\n",
    "# Symmetric Difference: Students in only one of the two courses\n",
    "sym_diff = course_a ^ course_b\n",
    "print(\"Students in only one of the two courses:\", sym_diff)\n"
   ]
  },
  {
   "cell_type": "code",
   "execution_count": 10,
   "id": "55651ff0-44ba-4d53-91f4-4a612e630b28",
   "metadata": {},
   "outputs": [],
   "source": [
    "## Q6: Sum of Even Numbers from 1 to 50"
   ]
  },
  {
   "cell_type": "code",
   "execution_count": 11,
   "id": "d7263040-c6e4-4429-89d2-711f912ec8a7",
   "metadata": {},
   "outputs": [
    {
     "name": "stdout",
     "output_type": "stream",
     "text": [
      "\n",
      "Sum of all even numbers between 1 and 50: 650\n"
     ]
    }
   ],
   "source": [
    "# Calculate sum of even numbers\n",
    "sum_of_evens = 0\n",
    "for num in range(1, 51):\n",
    "    if num % 2 == 0:\n",
    "        sum_of_evens += num\n",
    "print(\"\\nSum of all even numbers between 1 and 50:\", sum_of_evens)\n"
   ]
  },
  {
   "cell_type": "code",
   "execution_count": 13,
   "id": "a99d8a52-4387-47c0-9bba-5110113be6c3",
   "metadata": {},
   "outputs": [],
   "source": [
    "## Q7: Multiplication Table\n"
   ]
  },
  {
   "cell_type": "code",
   "execution_count": 14,
   "id": "4b4a6dec-eb3b-45d1-8a47-998c935a7585",
   "metadata": {},
   "outputs": [
    {
     "name": "stdin",
     "output_type": "stream",
     "text": [
      "\n",
      "Enter a number between 1 and 10:  4\n"
     ]
    },
    {
     "name": "stdout",
     "output_type": "stream",
     "text": [
      "\n",
      "Multiplication table for 4:\n",
      "4 x 1 = 4\n",
      "4 x 2 = 8\n",
      "4 x 3 = 12\n",
      "4 x 4 = 16\n",
      "4 x 5 = 20\n",
      "4 x 6 = 24\n",
      "4 x 7 = 28\n",
      "4 x 8 = 32\n",
      "4 x 9 = 36\n",
      "4 x 10 = 40\n"
     ]
    }
   ],
   "source": [
    "# Get user input\n",
    "number = int(input(\"\\nEnter a number between 1 and 10: \"))\n",
    "\n",
    "# Print multiplication table\n",
    "print(f\"\\nMultiplication table for {number}:\")\n",
    "for i in range(1, 11):\n",
    "    print(f\"{number} x {i} = {number * i}\")"
   ]
  },
  {
   "cell_type": "code",
   "execution_count": 15,
   "id": "50a02fe6-ea78-43cf-bac9-536e4e63dc7b",
   "metadata": {},
   "outputs": [],
   "source": [
    "## Q8: Powers of a Number"
   ]
  },
  {
   "cell_type": "code",
   "execution_count": 16,
   "id": "3bcb3518-e1be-4053-9aa7-f647c6d190b3",
   "metadata": {},
   "outputs": [
    {
     "name": "stdin",
     "output_type": "stream",
     "text": [
      "\n",
      "Enter a number to calculate its powers:  3\n"
     ]
    },
    {
     "name": "stdout",
     "output_type": "stream",
     "text": [
      "\n",
      "Powers of 3:\n",
      "3^1 = 3\n",
      "3^2 = 9\n",
      "3^3 = 27\n",
      "3^4 = 81\n",
      "3^5 = 243\n",
      "3^6 = 729\n",
      "3^7 = 2187\n",
      "3^8 = 6561\n",
      "3^9 = 19683\n",
      "3^10 = 59049\n"
     ]
    }
   ],
   "source": [
    "# Get user input\n",
    "num = int(input(\"\\nEnter a number to calculate its powers: \"))\n",
    "\n",
    "# Calculate powers using while loop\n",
    "power = 1\n",
    "print(f\"\\nPowers of {num}:\")\n",
    "while power <= 10:\n",
    "    print(f\"{num}^{power} = {num ** power}\")\n",
    "    power += 1\n"
   ]
  },
  {
   "cell_type": "code",
   "execution_count": 17,
   "id": "848d7438-ccbb-4699-ac1c-e59653b36ce9",
   "metadata": {},
   "outputs": [],
   "source": [
    "## Q9: Countdown\n"
   ]
  },
  {
   "cell_type": "code",
   "execution_count": 18,
   "id": "9eaea326-f9f2-47e3-bd13-e08628230132",
   "metadata": {},
   "outputs": [
    {
     "name": "stdin",
     "output_type": "stream",
     "text": [
      "\n",
      "Enter a number to start the countdown:  5\n"
     ]
    },
    {
     "name": "stdout",
     "output_type": "stream",
     "text": [
      "\n",
      "Countdown:\n",
      "5\n",
      "4\n",
      "3\n",
      "2\n",
      "1\n",
      "0\n",
      "Countdown finished!\n"
     ]
    }
   ],
   "source": [
    "# Get user input\n",
    "countdown = int(input(\"\\nEnter a number to start the countdown: \"))\n",
    "\n",
    "# Perform countdown\n",
    "print(\"\\nCountdown:\")\n",
    "while countdown >= 0:\n",
    "    print(countdown)\n",
    "    countdown -= 1\n",
    "print(\"Countdown finished!\")\n"
   ]
  },
  {
   "cell_type": "code",
   "execution_count": 19,
   "id": "e5035e69-2cde-4315-a973-35da8b77ba4a",
   "metadata": {},
   "outputs": [],
   "source": [
    "## Q10: Star Triangle Pattern\n"
   ]
  },
  {
   "cell_type": "code",
   "execution_count": 20,
   "id": "d13f665d-6f58-4227-b723-eb1b949e2650",
   "metadata": {},
   "outputs": [
    {
     "name": "stdin",
     "output_type": "stream",
     "text": [
      "\n",
      "Enter the number of rows for the triangle:  5\n"
     ]
    },
    {
     "name": "stdout",
     "output_type": "stream",
     "text": [
      "\n",
      "Right-angled triangle pattern:\n",
      "* \n",
      "* * \n",
      "* * * \n",
      "* * * * \n",
      "* * * * * \n"
     ]
    }
   ],
   "source": [
    "# Get user input\n",
    "n = int(input(\"\\nEnter the number of rows for the triangle: \"))\n",
    "\n",
    "# Print the star triangle\n",
    "print(\"\\nRight-angled triangle pattern:\")\n",
    "for row in range(1, n + 1):\n",
    "    print(\"* \" * row)\n"
   ]
  },
  {
   "cell_type": "code",
   "execution_count": null,
   "id": "fc27ee5e-7276-43e4-ba4a-af3fb254f683",
   "metadata": {},
   "outputs": [],
   "source": []
  }
 ],
 "metadata": {
  "kernelspec": {
   "display_name": "Python 3 (ipykernel)",
   "language": "python",
   "name": "python3"
  },
  "language_info": {
   "codemirror_mode": {
    "name": "ipython",
    "version": 3
   },
   "file_extension": ".py",
   "mimetype": "text/x-python",
   "name": "python",
   "nbconvert_exporter": "python",
   "pygments_lexer": "ipython3",
   "version": "3.12.7"
  }
 },
 "nbformat": 4,
 "nbformat_minor": 5
}
