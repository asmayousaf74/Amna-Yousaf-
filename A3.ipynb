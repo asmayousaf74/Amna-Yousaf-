{
 "cells": [
  {
   "cell_type": "code",
   "execution_count": null,
   "id": "7087a7ef-a49e-41f5-9bc9-7a033f982048",
   "metadata": {},
   "outputs": [],
   "source": [
    "# Answer 1"
   ]
  },
  {
   "cell_type": "code",
   "execution_count": 1,
   "id": "dea2d687-7069-4578-b103-b25896f9c823",
   "metadata": {},
   "outputs": [
    {
     "name": "stdin",
     "output_type": "stream",
     "text": [
      "Enter your age:  18\n",
      "Enter your credit score:  550\n",
      "Enter your annual income:  2000\n"
     ]
    },
    {
     "name": "stdout",
     "output_type": "stream",
     "text": [
      "You are not eligible due to credit score.\n"
     ]
    }
   ],
   "source": [
    "# def check_loan_eligibility(age, credit_score, income):\n",
    "    if age >= 18:\n",
    "        if credit_score >= 650:\n",
    "            if income >= 30000:\n",
    "                return \"You are eligible for the loan.\"\n",
    "            elif credit_score >= 700 and income >= 25000:\n",
    "                return \"You are eligible for the loan.\"\n",
    "            else:\n",
    "                return \"You are not eligible due to income.\"\n",
    "        else:\n",
    "            return \"You are not eligible due to credit score.\"\n",
    "    else:\n",
    "        return \"You are not eligible due to age.\"\n",
    "\n",
    "# Input\n",
    "age = int(input(\"Enter your age: \"))\n",
    "credit_score = int(input(\"Enter your credit score: \"))\n",
    "income = float(input(\"Enter your annual income: \"))\n",
    "\n",
    "# Check eligibility\n",
    "print(check_loan_eligibility(age, credit_score, income))\n"
   ]
  },
  {
   "cell_type": "code",
   "execution_count": null,
   "id": "d70fd0a3-934e-493b-9969-1485b048ebf2",
   "metadata": {},
   "outputs": [],
   "source": [
    " # Answer 2"
   ]
  },
  {
   "cell_type": "code",
   "execution_count": 1,
   "id": "c9ae793a-51be-48e9-b1dc-97f317dec5bc",
   "metadata": {},
   "outputs": [
    {
     "name": "stdin",
     "output_type": "stream",
     "text": [
      "Enter your age:  17\n"
     ]
    },
    {
     "name": "stdout",
     "output_type": "stream",
     "text": [
      "You are underage.\n"
     ]
    }
   ],
   "source": [
    "\n",
    "age = int(input(\"Enter your age: \"))\n",
    "\n",
    "if age < 18:\n",
    "    print(\"You are underage.\")\n",
    "else:\n",
    "    experience = int(input(\"Enter your years of experience: \"))\n",
    "    if experience >= 10:\n",
    "        print(\"You have a lot of experience.\")\n",
    "    elif experience >= 5:\n",
    "        print(\"You have moderate experience.\")\n",
    "    else:\n",
    "        print(\"You are a beginner.\")\n"
   ]
  },
  {
   "cell_type": "code",
   "execution_count": null,
   "id": "f070f10b-4c18-4e86-ad7c-bd3a985a37f3",
   "metadata": {},
   "outputs": [],
   "source": [
    "# Answer 3"
   ]
  },
  {
   "cell_type": "code",
   "execution_count": 16,
   "id": "9ce3b9a2-8f7a-49d7-a73e-f7dcbc80c2aa",
   "metadata": {},
   "outputs": [
    {
     "name": "stdout",
     "output_type": "stream",
     "text": [
      "Memory address of a: 140705327819480\n",
      "Memory address of b: 2145929496048\n",
      "Memory address of c: 2145929596864\n",
      "Memory address of d: 2145929664384\n",
      "Memory address of e: 2145929549440\n",
      "Memory address of f: 2145929662656\n",
      "Memory address of g: 140705326693248\n",
      "\n",
      "Memory sizes of the variables:\n",
      "a (int): 28 bytes\n",
      "b (float): 24 bytes\n",
      "c (str): 46 bytes\n",
      "d (list): 88 bytes\n",
      "e (tuple): 64 bytes\n",
      "f (dict): 184 bytes\n",
      "g (bool): 28 bytes\n",
      "\n",
      "The data type with the least memory size is: float\n"
     ]
    }
   ],
   "source": [
    "import sys\n",
    "\n",
    "# Define the variables\n",
    "a = 10               # integer\n",
    "b = 10.5             # float\n",
    "c = \"Hello\"          # string\n",
    "d = [1, 2, 3]        # list\n",
    "e = (1, 2, 3)        # tuple\n",
    "f = {'key': 'value'}  # dictionary\n",
    "g = True             # boolean\n",
    "\n",
    "# a) Print memory addresses of the variables\n",
    "print(f\"Memory address of a: {id(a)}\")\n",
    "print(f\"Memory address of b: {id(b)}\")\n",
    "print(f\"Memory address of c: {id(c)}\")\n",
    "print(f\"Memory address of d: {id(d)}\")\n",
    "print(f\"Memory address of e: {id(e)}\")\n",
    "print(f\"Memory address of f: {id(f)}\")\n",
    "print(f\"Memory address of g: {id(g)}\")\n",
    "\n",
    "# b) Find memory size and append them in a list\n",
    "memory_sizes = [\n",
    "    sys.getsizeof(a),\n",
    "    sys.getsizeof(b),\n",
    "    sys.getsizeof(c),\n",
    "    sys.getsizeof(d),\n",
    "    sys.getsizeof(e),\n",
    "    sys.getsizeof(f),\n",
    "    sys.getsizeof(g)\n",
    "]\n",
    "\n",
    "# c) Find data type with the least memory size\n",
    "min_memory_size = min(memory_sizes)\n",
    "min_memory_type = [\"int\", \"float\", \"str\", \"list\", \"tuple\", \"dict\", \"bool\"][\n",
    "    memory_sizes.index(min_memory_size)\n",
    "]\n",
    "\n",
    "# Print results\n",
    "print(\"\\nMemory sizes of the variables:\")\n",
    "print(f\"a (int): {sys.getsizeof(a)} bytes\")\n",
    "print(f\"b (float): {sys.getsizeof(b)} bytes\")\n",
    "print(f\"c (str): {sys.getsizeof(c)} bytes\")\n",
    "print(f\"d (list): {sys.getsizeof(d)} bytes\")\n",
    "print(f\"e (tuple): {sys.getsizeof(e)} bytes\")\n",
    "print(f\"f (dict): {sys.getsizeof(f)} bytes\")\n",
    "print(f\"g (bool): {sys.getsizeof(g)} bytes\")\n",
    "\n",
    "print(\"\\nThe data type with the least memory size is:\", min_memory_type)\n"
   ]
  },
  {
   "cell_type": "code",
   "execution_count": null,
   "id": "56cce1fe-95ee-4ae9-95d9-097c2afba7b4",
   "metadata": {},
   "outputs": [],
   "source": [
    "# Answer 4"
   ]
  },
  {
   "cell_type": "code",
   "execution_count": 13,
   "id": "6675f542-f0d8-4921-8772-06b58ffbf18f",
   "metadata": {},
   "outputs": [
    {
     "name": "stdin",
     "output_type": "stream",
     "text": [
      "Enter your email address:  amnayousaf@gmail.com\n"
     ]
    },
    {
     "name": "stdout",
     "output_type": "stream",
     "text": [
      "Email format is valid.\n"
     ]
    }
   ],
   "source": [
    "# Python program to check email format\n",
    "\n",
    "email = input(\"Enter your email address: \")\n",
    "\n",
    "# Check if both '@' and '.' are present in the email address\n",
    "if '@' in email and '.' in email:\n",
    "    print(\"Email format is valid.\")\n",
    "else:\n",
    "    print(\"Invalid email format.\")\n"
   ]
  },
  {
   "cell_type": "code",
   "execution_count": null,
   "id": "bb81cc36-e8fb-4037-bed4-042f79e57ae2",
   "metadata": {},
   "outputs": [],
   "source": [
    "# Answer 5"
   ]
  },
  {
   "cell_type": "code",
   "execution_count": 4,
   "id": "ddb1dffd-ebd7-4ea6-b472-c00534e69a76",
   "metadata": {},
   "outputs": [
    {
     "name": "stdout",
     "output_type": "stream",
     "text": [
      "Data types of tuple elements: [<class 'int'>, <class 'float'>, <class 'str'>, <class 'list'>, <class 'list'>]\n"
     ]
    }
   ],
   "source": [
    "# Python program to check data types of tuple elements\n",
    "\n",
    "# Given tuple\n",
    "my_tuple = (11, 22.333, 'apple', [1, 2, 3], ['a', 'b'])\n",
    "\n",
    "# Initialize an empty list to store the data types\n",
    "data_types = []\n",
    "\n",
    "# Loop through each element in the tuple and append its data type to the list\n",
    "for element in my_tuple:\n",
    "    data_types.append(type(element))\n",
    "\n",
    "# Print the list of data types\n",
    "print(\"Data types of tuple elements:\", data_types)\n"
   ]
  },
  {
   "cell_type": "code",
   "execution_count": null,
   "id": "82cc132c-5ddf-48a3-b239-b7e9f7a8721c",
   "metadata": {},
   "outputs": [],
   "source": [
    "# Answer 6"
   ]
  },
  {
   "cell_type": "code",
   "execution_count": 6,
   "id": "9ec52b55-e215-4924-b429-e64ad225a5ea",
   "metadata": {},
   "outputs": [
    {
     "name": "stdin",
     "output_type": "stream",
     "text": [
      "Enter your username:  alice\n"
     ]
    },
    {
     "name": "stdout",
     "output_type": "stream",
     "text": [
      "Username 'alice' found.\n",
      "alice is an admin.\n"
     ]
    }
   ],
   "source": [
    "users = [(\"alice\", \"admin\"), (\"bob\", \"user\"), (\"charlie\", \"moderator\")]\n",
    "\n",
    "username = input(\"Enter your username: \")\n",
    "\n",
    "# Check if username exists in the list\n",
    "if any(user[0] == username for user in users):\n",
    "    print(f\"Username '{username}' found.\")\n",
    "    # Check if the user is an admin\n",
    "    user_role = next(user[1] for user in users if user[0] == username)\n",
    "    if user_role == \"admin\":\n",
    "        print(f\"{username} is an admin.\")\n",
    "    else:\n",
    "        print(f\"{username} is a {user_role}.\")\n",
    "else:\n",
    "    print(f\"Username '{username}' does not exist.\")\n"
   ]
  },
  {
   "cell_type": "code",
   "execution_count": null,
   "id": "c0fa6e81-3fe3-4475-b297-2587525ff644",
   "metadata": {},
   "outputs": [],
   "source": [
    "# Answer 7"
   ]
  },
  {
   "cell_type": "code",
   "execution_count": 7,
   "id": "ad4374b9-cdf7-402f-be04-8f08e924c991",
   "metadata": {},
   "outputs": [
    {
     "name": "stdout",
     "output_type": "stream",
     "text": [
      "Relation: Siblings\n"
     ]
    }
   ],
   "source": [
    "person1 = ('father_name', 'mother_name', 'district', 'family_number')\n",
    "person2 = ('father_name', 'mother_name', 'district', 'family_number')\n",
    "person3 = ('father_name3', 'mother_name3', 'district3', 'family_number3')\n",
    "\n",
    "if person1 == person2:\n",
    "    print(\"Relation: Siblings\")\n",
    "\n",
    "if person1 == person3:\n",
    "    print(\"Relation: Cousin\")\n"
   ]
  },
  {
   "cell_type": "code",
   "execution_count": null,
   "id": "33e06677-5506-4ed3-86be-0bf3a7b8d184",
   "metadata": {},
   "outputs": [],
   "source": [
    "# Answer 8"
   ]
  },
  {
   "cell_type": "code",
   "execution_count": 8,
   "id": "e34428b4-0e54-4c6c-9e96-f8632ba08e5d",
   "metadata": {},
   "outputs": [
    {
     "name": "stdin",
     "output_type": "stream",
     "text": [
      "Enter the book's title:  the secret fight\n",
      "Enter the author's name:  william wordswith\n",
      "Enter the year of publication:  2008\n",
      "Enter the price of the book:  990\n"
     ]
    },
    {
     "name": "stdout",
     "output_type": "stream",
     "text": [
      "\n",
      "Book Title: the secret fight\n",
      "Author: william wordswith\n",
      "Year of Publication: 2008\n",
      "Price: $990.00\n"
     ]
    }
   ],
   "source": [
    "# Create a tuple for the book details\n",
    "book_title = input(\"Enter the book's title: \")\n",
    "book_author = input(\"Enter the author's name: \")\n",
    "book_year = int(input(\"Enter the year of publication: \"))\n",
    "book_price = float(input(\"Enter the price of the book: \"))\n",
    "\n",
    "book_info = (book_title, book_author, book_year, book_price)\n",
    "\n",
    "# Display book information\n",
    "print(f\"\\nBook Title: {book_info[0]}\")\n",
    "print(f\"Author: {book_info[1]}\")\n",
    "print(f\"Year of Publication: {book_info[2]}\")\n",
    "print(f\"Price: ${book_info[3]:.2f}\")\n"
   ]
  },
  {
   "cell_type": "code",
   "execution_count": null,
   "id": "e7c7685e-6739-450a-864d-7e9df48c626e",
   "metadata": {},
   "outputs": [],
   "source": [
    "# Answer 9"
   ]
  },
  {
   "cell_type": "code",
   "execution_count": 10,
   "id": "a1d68cb8-917c-447b-90aa-046b18076fff",
   "metadata": {},
   "outputs": [
    {
     "name": "stdin",
     "output_type": "stream",
     "text": [
      "Enter the subject you want to check:  Maths\n"
     ]
    },
    {
     "name": "stdout",
     "output_type": "stream",
     "text": [
      "The subject 'Maths' is not available.\n"
     ]
    }
   ],
   "source": [
    "subjects = ['Math', 'Science', 'History', 'English', 'Geography']\n",
    "\n",
    "chosen_subject = input(\"Enter the subject you want to check: \")\n",
    "\n",
    "if chosen_subject in subjects:\n",
    "    print(f\"The subject '{chosen_subject}' is available.\")\n",
    "else:\n",
    "    print(f\"The subject '{chosen_subject}' is not available.\")\n"
   ]
  },
  {
   "cell_type": "code",
   "execution_count": null,
   "id": "b22d081f-1b2f-4a0b-a18b-43c3ec614c30",
   "metadata": {},
   "outputs": [],
   "source": [
    "# Answer 10"
   ]
  },
  {
   "cell_type": "code",
   "execution_count": 11,
   "id": "03fb7969-8913-4f94-8bfe-16382e40caa9",
   "metadata": {},
   "outputs": [
    {
     "name": "stdin",
     "output_type": "stream",
     "text": [
      "Enter a number to find its index:  25\n"
     ]
    },
    {
     "name": "stdout",
     "output_type": "stream",
     "text": [
      "The index of 25 is 5.\n"
     ]
    },
    {
     "name": "stdin",
     "output_type": "stream",
     "text": [
      "Enter another number to count its occurrences:  28\n"
     ]
    },
    {
     "name": "stdout",
     "output_type": "stream",
     "text": [
      "The number 28 appears 0 time(s) in the tuple.\n"
     ]
    }
   ],
   "source": [
    "# Create a tuple with integer values, including duplicates\n",
    "numbers = (5, 10, 15, 10, 20, 25, 10)\n",
    "\n",
    "# Prompt user to input a number and find its index\n",
    "num1 = int(input(\"Enter a number to find its index: \"))\n",
    "if num1 in numbers:\n",
    "    print(f\"The index of {num1} is {numbers.index(num1)}.\")\n",
    "else:\n",
    "    print(f\"{num1} is not in the tuple.\")\n",
    "\n",
    "# Ask the user for another number and count how many times it appears\n",
    "num2 = int(input(\"Enter another number to count its occurrences: \"))\n",
    "count = numbers.count(num2)\n",
    "print(f\"The number {num2} appears {count} time(s) in the tuple.\")\n"
   ]
  },
  {
   "cell_type": "code",
   "execution_count": null,
   "id": "ded77420-1a26-4ee0-9d8e-4d1890a6d1cd",
   "metadata": {},
   "outputs": [],
   "source": [
    "# Answer 11 "
   ]
  },
  {
   "cell_type": "code",
   "execution_count": 12,
   "id": "a39c1831-08e3-48a3-9c8c-7d0fe7050a2e",
   "metadata": {},
   "outputs": [
    {
     "name": "stdin",
     "output_type": "stream",
     "text": [
      "Enter the current temperature in Celsius:  27\n"
     ]
    },
    {
     "name": "stdout",
     "output_type": "stream",
     "text": [
      "It's normal.\n"
     ]
    }
   ],
   "source": [
    "# Get the current temperature in Celsius\n",
    "temperature = float(input(\"Enter the current temperature in Celsius: \"))\n",
    "\n",
    "if temperature <= 0:\n",
    "    print(\"It's freezing.\")\n",
    "elif 1 <= temperature <= 30:\n",
    "    print(\"It's normal.\")\n",
    "else:\n",
    "    print(\"It's hot.\")\n"
   ]
  },
  {
   "cell_type": "code",
   "execution_count": null,
   "id": "5eb04c17-04a0-420e-811d-9257f7c9a3c3",
   "metadata": {},
   "outputs": [],
   "source": []
  }
 ],
 "metadata": {
  "kernelspec": {
   "display_name": "Python 3 (ipykernel)",
   "language": "python",
   "name": "python3"
  },
  "language_info": {
   "codemirror_mode": {
    "name": "ipython",
    "version": 3
   },
   "file_extension": ".py",
   "mimetype": "text/x-python",
   "name": "python",
   "nbconvert_exporter": "python",
   "pygments_lexer": "ipython3",
   "version": "3.12.7"
  }
 },
 "nbformat": 4,
 "nbformat_minor": 5
}
